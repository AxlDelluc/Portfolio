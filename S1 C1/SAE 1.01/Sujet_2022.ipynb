{
 "cells": [
  {
   "cell_type": "markdown",
   "metadata": {
    "deletable": false,
    "editable": false,
    "run_control": {
     "frozen": true
    }
   },
   "source": [
    "# <center> Etude de communautés dans un réseau social</center>\n",
    "<center> SAE 1.01 / 2022 - 23 </center>\n",
    "\n"
   ]
  },
  {
   "cell_type": "code",
   "execution_count": null,
   "metadata": {},
   "outputs": [],
   "source": [
    "Delluc Axel   Saravanan Bryan "
   ]
  },
  {
   "cell_type": "markdown",
   "metadata": {
    "deletable": false,
    "editable": false,
    "run_control": {
     "frozen": true
    }
   },
   "source": [
    "Cette SAE est à faire en **binôme**.\n",
    "\n",
    "**Calendrier**\n",
    "- Un contrôle de 2h en lien avec le contenu de cette SAE aura lieu le mercredi **26 octobre** 2022.\n",
    "- Le projet est à rendre le vendredi **28 octobre** 2022. Les modalités de rendu vous seront précisées par votre enseignant.\n",
    "\n",
    "**Evaluation**\n",
    "- Le projet comptera pour 40% de la note de SAE 1.01. <BR>\n",
    "    Il sera particulièrement tenu compte de la qualité du code, des **commentaires** et **docstrings**, des fonctions de **tests unitaires** pour les fonctions renvoyant des résultats. <BR><BR>\n",
    "    \n",
    "- Le contrôle compte pour 60% de la note finale."
   ]
  },
  {
   "cell_type": "markdown",
   "metadata": {
    "deletable": false,
    "editable": false,
    "run_control": {
     "frozen": true
    }
   },
   "source": [
    "## <center> Sujet </center>\n",
    "\n",
    "Une *communauté* est un ensemble de personnes développant des interactions dans un réseau social.\n",
    "\n",
    "Dans ce projet, on étudie des communautés modélisées sous différentes formes. Pour cela, on développe des fonctions permettant d'extraire des informations relatives à ces réseaux. "
   ]
  },
  {
   "cell_type": "markdown",
   "metadata": {
    "deletable": false,
    "editable": false,
    "run_control": {
     "frozen": true
    }
   },
   "source": [
    "On modélise, dans un premier temps, les interactions entre personnes dans un tableau `amis` de chaînes de caractères contenant les prénoms des membres du réseau et tel que `amis[2*i]` a des interactions avec `amis[2*i+1]`.\n",
    "\n",
    "On suppose que chaque interaction n'est décrite qu'une seule fois dans le tableau, et qu'une personne n'a pas d'interaction avec elle-même.\n",
    "\n",
    "**Exemple** : "
   ]
  },
  {
   "cell_type": "code",
   "execution_count": 2,
   "metadata": {
    "deletable": false,
    "editable": false
   },
   "outputs": [],
   "source": [
    "amis = [\"Alice\", \"Bob\", \"Alice\", \"Charlie\", \"Bob\", \"Denis\"]"
   ]
  },
  {
   "cell_type": "markdown",
   "metadata": {
    "deletable": false,
    "editable": false,
    "run_control": {
     "frozen": true
    }
   },
   "source": [
    "Ici, \n",
    "- Alice a des interactions Bob et Charlie, \n",
    "- Bob a des intractions avec Alice et Denis,\n",
    "- Charlie a des interactions avec Alice et\n",
    "- Denis a des interactions avec Bob."
   ]
  },
  {
   "cell_type": "markdown",
   "metadata": {
    "deletable": false,
    "editable": false,
    "run_control": {
     "frozen": true
    }
   },
   "source": [
    "#### Question préliminaire : Modélisation d'un réseau par un tableau\n",
    "\n",
    "Muriel, Yasmine et Joël sont amis. Yasmine est amie avec Thomas. \n",
    "Joël, Nassim, Andrea et Ali sont amis. Thomas est ami de Daria et Carole. Thierry, Axel et Léo sont amis. Léo est ami de Valentin qui est ami d'Andrea.\n",
    "\n",
    "- Construire un tableau `p_amis` qui modélise ce réseau d'amitié en selon le principe qui vient d'être décrit."
   ]
  },
  {
   "cell_type": "code",
   "execution_count": 10,
   "metadata": {},
   "outputs": [],
   "source": [
    "p_amis=[\"Muriel\",\"Yasmine\",\"Muriel\",\"Joël\",\"Yasmine\",\"Joël\",\"Yasmine\",\"Thomas\",\"Joël\",\"Nassim\",\"Joël\",\n",
    "\"Andrea\",\"Joël\",\"Ali\",\"Nassim\",\"Andrea\",\"Nassim\",\"Ali\",\"Andrea\",\"Ali\",\"Thomas\",\"Daria\",\"Thomas\",\n",
    "\"Carole\",\"Daria\",\"Carole\",\"Thierry\",\"Axel\",\"Thierry\",\"Léo\",\"Axel\",\"Léo\",\"Léo\",\"Valentin\",\"Valentin\",\n",
    "\"Andrea\"]"
   ]
  },
  {
   "cell_type": "markdown",
   "metadata": {
    "deletable": false,
    "editable": false,
    "run_control": {
     "frozen": true
    }
   },
   "source": [
    "#### Question 1 : Nombre d'amis d'une personne\n",
    "\n",
    "- Étant donné un tableau `amis`, écrire une fonction `nb_amis(amis, prenom)` qui retourne le nombre d'amis de `prenom` à partir des données du tableau `amis`. "
   ]
  },
  {
   "cell_type": "code",
   "execution_count": 3,
   "metadata": {},
   "outputs": [
    {
     "data": {
      "text/plain": [
       "2"
      ]
     },
     "execution_count": 3,
     "metadata": {},
     "output_type": "execute_result"
    }
   ],
   "source": [
    "def nb_amis(amis,prenom):\n",
    "\n",
    "    \"\"\"\n",
    "\n",
    "    Retourne le nombre d'amis de prenom selon le tableau amis\n",
    "\n",
    "    \"\"\"\n",
    "\n",
    "    i=0 #Initialisation d'une variable pour la boucle\n",
    "    res=0 #Initialisation d'une variable pour le résultat \n",
    "    while i<len(amis): #Boucle permettant de parcourrir tout le tableau \n",
    "        if amis[i]==prenom: #Condition de présence du prénom dans le tableau \n",
    "            res+=1 #Incrémentation de la variable res\n",
    "        i+=1 #Incrémentation de la variable i\n",
    "    return res #Renvoi du résultat\n",
    "nb_amis(p_amis,\"Axel\")"
   ]
  },
  {
   "cell_type": "code",
   "execution_count": 3,
   "metadata": {},
   "outputs": [
    {
     "name": "stdout",
     "output_type": "stream",
     "text": [
      "Fonction nb_amis: OK.\n"
     ]
    }
   ],
   "source": [
    "def test_nb_amis():\n",
    "\n",
    "    \"\"\"\n",
    "\n",
    "    Fonction de test pour la fonction nb_amis()\n",
    "\n",
    "    \"\"\"\n",
    "    assert nb_amis(p_amis,\"Thierry\")==2\n",
    "    assert nb_amis(p_amis,\"Yasmine\")==3\n",
    "    assert not nb_amis(p_amis,\"Thomas\")==5 \n",
    "    print(\"Fonction nb_amis: OK.\")\n",
    "test_nb_amis()"
   ]
  },
  {
   "cell_type": "markdown",
   "metadata": {
    "deletable": false,
    "editable": false,
    "run_control": {
     "frozen": true
    }
   },
   "source": [
    "#### Question 2 : Nombre de membres d'un réseau social \n",
    "\n",
    "- Ecrire une fonction `taille_reseau(amis)` qui à partir d'un tableau `amis`retourne le nombre de personnes distinctes participant à ce réseau social."
   ]
  },
  {
   "cell_type": "code",
   "execution_count": 11,
   "metadata": {},
   "outputs": [
    {
     "data": {
      "text/plain": [
       "13"
      ]
     },
     "execution_count": 11,
     "metadata": {},
     "output_type": "execute_result"
    }
   ],
   "source": [
    "def taille_reseau(amis):\n",
    "\n",
    "    \"\"\"\n",
    "    \n",
    "    Retourne le nombre d'éléments distincts présents dans le tableau amis\n",
    "\n",
    "    \"\"\"\n",
    "\n",
    "    i=0 #Initialisation d'une variable pour la boucle \n",
    "    res=[amis[0]] #Création d'un tableau comprennant le premier élément du tableau amis\n",
    "    while i<len(amis): #Boucle permettant de parcourrir tout le tableau amis\n",
    "        n=0 #Initialisation d'une variable pour la boucle imbriquée \n",
    "        diff=True #Initialisation d'une variable permettant de tester l'unicité de l'élément dans le tableau res\n",
    "        while n<len(res) and diff==True: #Boucle imbriquée testant l'unicité de l'élément dans le tableau res\n",
    "            if amis[i]==res[n]: #Test si l'élément amis[i] est deja présent dans le tableau res\n",
    "                diff=False #Modification de variable pour mettre fin au test en cas de non unicité de l'élément amis[i]\n",
    "            else: #Test si l'élément n'est pas présent dans le tableau renvoyé \n",
    "                n+=1 #Incrémentation de n\n",
    "        if diff==True: #Test si l'élément est absent dans le tableau amis\n",
    "            res.append(amis[i]) #Ajout de l'élément amis [i] dans le tableau res\n",
    "        i+=1 #Incrémentation de I\n",
    "    return len(res) #Renvoi de la longueur de res représentant le nombre d'éléments distincts présents dans la liste \n",
    "taille_reseau(p_amis)"
   ]
  },
  {
   "cell_type": "code",
   "execution_count": 7,
   "metadata": {},
   "outputs": [
    {
     "name": "stdout",
     "output_type": "stream",
     "text": [
      "Fonction taille_reseau: OK.\n"
     ]
    }
   ],
   "source": [
    "def test_taille_reseau():\n",
    "    \n",
    "    \"\"\"\n",
    "    \n",
    "    Fonction de test pour la fonction taille_reseau()\n",
    "    \n",
    "    \"\"\"\n",
    "assert taille_reseau(p_amis)==13\n",
    "assert not taille_reseau(p_amis)==18\n",
    "print(\"Fonction taille_reseau: OK.\")\n",
    "test_taille_reseau()"
   ]
  },
  {
   "cell_type": "markdown",
   "metadata": {
    "deletable": false,
    "editable": false,
    "run_control": {
     "frozen": true
    }
   },
   "source": [
    "#### Question 3 :  Lecture des données d'un réseau à partir d'un fichier\n",
    "On suppose que les données sur un réseau social sont stockées dans un fichier CSV de la manière suivante :\n",
    "```\n",
    "prenom1;prenom2\n",
    "prenom3;prenom4\n",
    "prenom5;prenom6\n",
    "...\n",
    "```\n",
    "Autrement dit, chaque ligne du fichier contient une paire de prénoms séparés par un `';'` correspondant à deux personnes ayant des interactions. \n",
    "\n",
    "**NB** : Quatre fichiers CSV de ce type sont fournis dans le répertoire `files/`, il s'agit des fichiers`Communaute1.csv`, `Communaute2.csv`,`Communaute3.csv` et `Communaute4.csv`. \n",
    "Il est recommandé d'en fabriquer d'autres. \n",
    "\n",
    "- Ecrire une fonction `lecture_reseau(path)` prenant en paramètre un chemin vers un tel fichier CSV et retournant un tableau modélisant les interactions entre les personnes du fichier."
   ]
  },
  {
   "cell_type": "code",
   "execution_count": 11,
   "metadata": {},
   "outputs": [],
   "source": [
    "def lecture_reseau(path):\n",
    "    \"\"\"\n",
    "    \n",
    "    Retourne sous forme d'un tableau un fichier CSV représentant un réseau social sous la forme expliquée précédemment \n",
    "    \n",
    "    \"\"\"\n",
    "    res=[] #Initialisation d'un tableau vide \n",
    "    f=open(path,encoding=\"utf-8\",mode=\"r\") #Ouverture du fichier placé en paramètre en mode lecture \n",
    "    li=f.readline() #Lecture de la première ligne du fichier \n",
    "    while(\"\"!=li): #Boucle permettant de parcourrir tout le fichier dont la variable de fin est définie a la lecture d'une ligne vide \n",
    "        li=li.strip() #Supression des caractères \" \" et \"\\n\"\n",
    "        tab=li.split(\";\") #Création d'un tableau a partir de la ligne en séparant les valeurs au niveau des caractères \";\"\n",
    "        res.append(tab[0]) #Ajout au tableau res la première valeur du tableau tab représentant la ligne\n",
    "        res.append(tab[1]) #Ajout au tableau res la deuxième valeur du tableau tab représentant la ligne\n",
    "        li=f.readline() #Lecture de la ligne suivante \n",
    "    f.close() #Fermeture du fichier a la fin de la lecture de celui ci \n",
    "    return res #Renvoi du résultat \n"
   ]
  },
  {
   "cell_type": "code",
   "execution_count": 12,
   "metadata": {},
   "outputs": [
    {
     "name": "stdout",
     "output_type": "stream",
     "text": [
      "Fonction lecture_reseau: OK.\n"
     ]
    }
   ],
   "source": [
    "def test_lecture_reseau():\n",
    "    \"\"\"\n",
    "    \n",
    "    Fonction de test pour la fonction lecture_reseau()\n",
    "    \n",
    "    \"\"\"\n",
    "    assert lecture_reseau(\"newfiles/Communaute1.csv\")==['Barbra', 'Cloe', 'Louis', 'Rufino', 'Idelle', 'Mady', 'Björn', 'Giedrius', 'Cloe', 'Glenys', 'Barbra', 'Vittorio', 'Mady', 'Rufino', 'Barbra', 'Marwa', 'Cloe', 'Louis', 'Björn', 'Faizel', 'Giedrius', 'Rufino', 'Mady', 'Vittore', 'Giedrius', 'Louis', 'Cloe', 'Placide', 'Cloe', 'Teodor', 'Kirsa', 'Vittorio', 'Idelle', 'Marwa', 'Placide', 'Rufino', 'Giedrius', 'Illtyd', 'Björn', 'Cloe', 'Björn', 'Rufino', 'Louis', 'Placide', 'Barbra', 'Rufino', 'Louis', 'Vittorio', 'Olavi', 'Placide', 'Rufino', 'Teodor', 'Louis', 'Olavi', 'Faizel', 'Rufino', 'Olavi', 'Vittorio', 'Barbra', 'Louis', 'Placide', 'Vittorio', 'Barbra', 'Kirsa', 'Illtyd', 'Rufino', 'Jakob', 'Mady', 'Barbra', 'Vittore', 'Björn', 'Idelle', 'Cloe', 'Vittore', 'Olavi', 'Teodor', 'Jakob', 'Placide', 'Cain', 'Vittorio', 'Barbra', 'Faizel', 'Giedrius', 'Mady', 'Kirsa', 'Vittore', 'Barbra', 'Mady', 'Jakob', 'Kirsa', 'Björn', 'Mady', 'Björn', 'Teodor', 'Cloe', 'Vittorio', 'Illtyd', 'Olavi', 'Olavi', 'Rufino', 'Giedrius', 'Glenys', 'Rufino', 'Vittorio', 'Björn', 'Olavi', 'Björn', 'Louis', 'Louis', 'Vittore', 'Mady', 'Teodor', 'Vittore', 'Vittorio', 'Faizel', 'Placide', 'Cloe', 'Mady', 'Cain', 'Placide', 'Mady', 'Vittorio', 'Cloe', 'Idelle', 'Mady', 'Placide', 'Giedrius', 'Vittorio', 'Faizel', 'Olavi', 'Björn', 'Vittore', 'Idelle', 'Illtyd', 'Barbra', 'Olavi']\n",
    "    assert len(lecture_reseau(\"newfiles/Communaute1.csv\"))==136\n",
    "    print(\"Fonction lecture_reseau: OK.\")\n",
    "    \n",
    "test_lecture_reseau()"
   ]
  },
  {
   "cell_type": "markdown",
   "metadata": {
    "deletable": false,
    "editable": false,
    "run_control": {
     "frozen": true
    }
   },
   "source": [
    "#### Question 4 : Modélisation d'un réseau par un dictionnaire\n",
    "On préfère pour la suite, utiliser une modélisation du réseau social par un dictionnaire dont où les clés sont les prénoms des personnes du réseau et la valeur associé à une clé est le tableau des amis de la personne indiquée par la clé.\n",
    "\n",
    "- A partir d'un tableau `amis` modélisant les interactions entre personnes d'un réseau, écrire une fonction `dico_reseau(amis)` qui retourne un dictionnaire dont les clés sont les prénoms des membres du réseau et les valeurs le tableau de leurs amis."
   ]
  },
  {
   "cell_type": "code",
   "execution_count": 4,
   "metadata": {},
   "outputs": [],
   "source": [
    "def dico_reseau(amis):\n",
    "    \"\"\"\n",
    "    \n",
    "    Transforme un tableau amis en dictionnaire tel que les clés sont tout les éléments distincts du réseau social et les \n",
    "    valeurs correspondantes un tableau citant toutes leurs liaisons au sein du réseau social amis\n",
    "    \n",
    "    \"\"\"\n",
    "    dico={} #Initialisation d'un dictionnaire vide \n",
    "    n=0 #Initialisation d'une variable implémentable pour la boucle \n",
    "    while n<len(amis)-1: #Boucle permettant de parcourrir tout le tableau placé en paramètre sans sortir de celui ci \n",
    "        if not amis[n] in dico: #Test de présence de l'élement dans le dictionnaire sous forme de clé \n",
    "            dico[str(amis[n])]=[] #Ajout de l'élément dans le dictionnaire sous forme de clé \n",
    "        if not amis[n+1] in dico[str(amis[n])] and n%2==0: #Test de présence de l'élément d'indice n+1 dans le tableau de l'élément d'indice n avec n pair\n",
    "            dico[str(amis[n])].append(str(amis[n+1])) #Ajout de l'élément d'indice n+1 dans le tableau de l'élément d'indice n\n",
    "        elif not amis[n-1] in dico[str(amis[n])] and n%2!=0: #Test de présence de l'élément d'indice n-1 dans le tableau de l'élément d'indice n avec n impair\n",
    "            dico[str(amis[n])].append(str(amis[n-1])) #Ajout de l'élément d'indice n-1 dans le tableau de l'élément d'indice n\n",
    "        n+=1 #Incrémentation de i\n",
    "    return dico #Renvoi du dictionnaire "
   ]
  },
  {
   "cell_type": "code",
   "execution_count": 15,
   "metadata": {},
   "outputs": [
    {
     "name": "stdout",
     "output_type": "stream",
     "text": [
      "Fonction dico_reseau: OK.\n"
     ]
    }
   ],
   "source": [
    "def test_dico_reseau():\n",
    "    \"\"\"\n",
    "    \n",
    "    Fonction de test pour la fonction dico_reseau()\n",
    "    \n",
    "    \"\"\"\n",
    "    assert len(list(dico_reseau(lecture_reseau(\"newfiles/Communaute1.csv\"))))==taille_reseau(lecture_reseau(\"newfiles/Communaute1.csv\"))\n",
    "    assert dico_reseau(p_amis)[\"Muriel\"]==['Yasmine', 'Joël']\n",
    "    \n",
    "    \n",
    "    print(\"Fonction dico_reseau: OK.\")\n",
    "test_dico_reseau()"
   ]
  },
  {
   "cell_type": "markdown",
   "metadata": {
    "deletable": false,
    "editable": false,
    "run_control": {
     "frozen": true
    }
   },
   "source": [
    "#### Question 5 : Nombre d'amis des personnes les plus populaires\n",
    "\n",
    "- A partir d'un dictionnaire `dico_reseau` modélisant les interactions dans un réseau d'amis, écrire une fonction `nb_amis_plus_pop (dico_reseau)` qui retourne le nombre d'amis des personnes les plus populaires du réseau."
   ]
  },
  {
   "cell_type": "code",
   "execution_count": 17,
   "metadata": {},
   "outputs": [],
   "source": [
    "def nb_amis_plus_pop(dico_reseau):\n",
    "    \"\"\"\n",
    "    \n",
    "    Retourne le nombre d'amis que possède la personne la plus populaire du réseau social représenté par un dictionnaire \n",
    "    \n",
    "    \"\"\"\n",
    "    res=0 #Initialisation de la variable renvoyée en fin de programme a une valeur basse pour qu'elle soie remplacée dés la premeière boucle\n",
    "    tab=list(dico_reseau)#Récupération des prénoms des éléments uniques du réseau \n",
    "    i=0 #Initialisation d'une variable pour la boucle \n",
    "    while i<len(tab): #Boucle parcourrant tout le dictionnaire via la longueur du tableau contennant les clés \n",
    "        if res<len(dico_reseau[tab[i]]): #Test si le nombre d'amis de l'élément est superieur a la variable \n",
    "            res=len(dico_reseau[tab[i]]) #Remplacement de la variable par le nombre d'amis supérieur\n",
    "        i+=1 #Incrémentation de i\n",
    "    return res #Renvoi du résultat\n"
   ]
  },
  {
   "cell_type": "code",
   "execution_count": 18,
   "metadata": {},
   "outputs": [
    {
     "name": "stdout",
     "output_type": "stream",
     "text": [
      "Fonction nb_amis_plus_pop: OK.\n"
     ]
    }
   ],
   "source": [
    "def test_nb_amis_plus_pop():\n",
    "    \"\"\"\n",
    "    \n",
    "    Fonction de test pour la fonction nb_amis_plus_pop()\n",
    "    \n",
    "    \"\"\"\n",
    "    assert nb_amis_plus_pop(dico_reseau(p_amis))==5\n",
    "    assert nb_amis_plus_pop(dico_reseau(lecture_reseau(\"newfiles/Communaute1.csv\")))==11\n",
    "    assert nb_amis_plus_pop(dico_reseau(lecture_reseau(\"newfiles/Communaute4.csv\")))==20\n",
    "    print(\"Fonction nb_amis_plus_pop: OK.\")\n",
    "test_nb_amis_plus_pop()"
   ]
  },
  {
   "cell_type": "markdown",
   "metadata": {
    "deletable": false,
    "editable": false,
    "run_control": {
     "frozen": true
    }
   },
   "source": [
    "#### Question 6 : Personnes les plus populaires\n",
    "\n",
    "- A partir d'un dictionnaire `dico_reseau` modélisant les interactions dans un réseau d'amis, écrire une fonction `les_plus_pop (dico_reseau)` qui retourne un tableau contenant les prénoms de toutes les personnes les plus populaires du réseau."
   ]
  },
  {
   "cell_type": "code",
   "execution_count": 23,
   "metadata": {},
   "outputs": [],
   "source": [
    "def les_plus_pop(dico_reseau):\n",
    "    \"\"\"\n",
    "    \n",
    "    Retourne un tableau listant les éléments du réseau social présentant le nombre maximal d'amis du dit réseau .\n",
    "    \n",
    "    \"\"\"\n",
    "    res=[] #Initialisation d'un tableau vide \n",
    "    tab=list(dico_reseau) #Récupération des prénoms des éléments uniques du réseau \n",
    "    i=0 #Initialisation d'une variable pour la boucle \n",
    "    while i<len(tab): #Boucle parcourrant tout le dictionnaire via la longueur du tableau contennant les clés \n",
    "        if len(dico_reseau[tab[i]])==nb_amis_plus_pop(dico_reseau):#Test si l'élément présente le bon nombre d'amis \n",
    "            res.append(tab[i]) #Ajout de l'élément au tableau \n",
    "        i+=1 #Incrémentation de i\n",
    "    return res #Renvoi du résultat\n"
   ]
  },
  {
   "cell_type": "code",
   "execution_count": 24,
   "metadata": {},
   "outputs": [
    {
     "name": "stdout",
     "output_type": "stream",
     "text": [
      "Fonction les_plus_pop: OK.\n"
     ]
    }
   ],
   "source": [
    "def test_les_plus_pop():\n",
    "    \"\"\"\n",
    "    \n",
    "    Fonction de test pour la fonction les_plus_pop()\n",
    "    \n",
    "    \"\"\"\n",
    "    assert les_plus_pop(dico_reseau(p_amis))==['Joël']\n",
    "    assert les_plus_pop(dico_reseau(lecture_reseau(\"newfiles/Communaute1.csv\")))==['Rufino', 'Mady', 'Vittorio']\n",
    "    assert len(les_plus_pop(dico_reseau(lecture_reseau(\"newfiles/Communaute2.csv\"))))==2\n",
    "    \n",
    "    print(\"Fonction les_plus_pop: OK.\")\n",
    "    \n",
    "test_les_plus_pop()"
   ]
  },
  {
   "cell_type": "code",
   "execution_count": 2,
   "metadata": {},
   "outputs": [
    {
     "data": {
      "text/plain": [
       "['Alice', 'Bob', 'Charlie', 'Dominique']"
      ]
     },
     "execution_count": 2,
     "metadata": {},
     "output_type": "execute_result"
    }
   ],
   "source": [
    "def get_people(reseau):\n",
    "    tab=list(reseau.keys())\n",
    "    return tab\n",
    "reseau={\n",
    "    \"Alice\" : [\"Bob\", \"Dominique\"],\n",
    "    \"Bob\" : [\"Alice\", \"Dominique\", \"Charlie\"],\n",
    "    \"Charlie\" : [\"Bob\"],\n",
    "    \"Dominique\" : [\"Bob\", \"Alice\"]\n",
    "  }\n",
    "get_people(reseau)"
   ]
  },
  {
   "cell_type": "code",
   "execution_count": 4,
   "metadata": {},
   "outputs": [
    {
     "data": {
      "text/plain": [
       "False"
      ]
     },
     "execution_count": 4,
     "metadata": {},
     "output_type": "execute_result"
    }
   ],
   "source": [
    "def are_friends(reseau,p1,p2):\n",
    "    if p2 in reseau[p1]:\n",
    "        return True \n",
    "    return False \n",
    "are_friends(reseau,\"Alice\",\"Charlie\")"
   ]
  },
  {
   "cell_type": "code",
   "execution_count": 6,
   "metadata": {},
   "outputs": [
    {
     "data": {
      "text/plain": [
       "False"
      ]
     },
     "execution_count": 6,
     "metadata": {},
     "output_type": "execute_result"
    }
   ],
   "source": [
    "def all_his_friends(reseau,p,g):\n",
    "    test=True\n",
    "    i=0 \n",
    "    while i<len(g) and test==True:\n",
    "        if g[i] not in reseau[p]:\n",
    "            test=False \n",
    "        i+=1\n",
    "    return test\n",
    "all_his_friends(reseau,\"Alice\",[\"Bob\",\"Dominique\",\"Charlie\"])"
   ]
  },
  {
   "cell_type": "code",
   "execution_count": 7,
   "metadata": {},
   "outputs": [
    {
     "data": {
      "text/plain": [
       "True"
      ]
     },
     "execution_count": 7,
     "metadata": {},
     "output_type": "execute_result"
    }
   ],
   "source": [
    "def is_a_community(reseau,groupe):\n",
    "    i=0\n",
    "    test=True\n",
    "    while i<len(groupe) and test==True:\n",
    "        tmp=groupe[i]\n",
    "        groupe.pop(i)\n",
    "        test=all_his_friends(reseau,tmp,groupe)\n",
    "        groupe.append(tmp)\n",
    "        i+=1\n",
    "    return test\n",
    "is_a_community(reseau,[\"Alice\",\"Bob\",\"Dominique\"])"
   ]
  },
  {
   "cell_type": "code",
   "execution_count": 8,
   "metadata": {},
   "outputs": [
    {
     "data": {
      "text/plain": [
       "['Alice', 'Bob', 'Dominique']"
      ]
     },
     "execution_count": 8,
     "metadata": {},
     "output_type": "execute_result"
    }
   ],
   "source": [
    "def find_community(reseau,groupe):\n",
    "    com=[groupe[0]]\n",
    "    i=1\n",
    "    while i<len(groupe):\n",
    "        if all_his_friends(reseau,groupe[i],com)==True:\n",
    "            com.append(groupe[i])\n",
    "        i+=1\n",
    "    return com\n",
    "find_community(reseau,[\"Alice\",\"Charlie\",\"Bob\",\"Dominique\"])"
   ]
  },
  {
   "cell_type": "code",
   "execution_count": 9,
   "metadata": {},
   "outputs": [
    {
     "data": {
      "text/plain": [
       "['Bob', 'Alice', 'Dominique', 'Charlie']"
      ]
     },
     "execution_count": 9,
     "metadata": {},
     "output_type": "execute_result"
    }
   ],
   "source": [
    "def order_by_decreasing_popularity(reseau,groupe):\n",
    "    i=0\n",
    "    while i<len(groupe):\n",
    "        tmp=i\n",
    "        n=i\n",
    "        while n<len(groupe):\n",
    "            if len(reseau[groupe[n]])>len(reseau[groupe[tmp]]):\n",
    "                tmp=n\n",
    "            n+=1\n",
    "        a=groupe[i]\n",
    "        groupe[i]=groupe[tmp]\n",
    "        groupe[tmp]=a\n",
    "        i+=1\n",
    "    return groupe\n",
    "order_by_decreasing_popularity(reseau,[\"Alice\", \"Bob\", \"Charlie\",\"Dominique\"])"
   ]
  },
  {
   "cell_type": "code",
   "execution_count": 40,
   "metadata": {},
   "outputs": [
    {
     "data": {
      "text/plain": [
       "['Bob', 'Alice', 'Dominique']"
      ]
     },
     "execution_count": 40,
     "metadata": {},
     "output_type": "execute_result"
    }
   ],
   "source": [
    "def find_community_by_decreasing_popularity(reseau):\n",
    "    tab=order_by_decreasing_popularity(reseau,get_people(reseau))\n",
    "    com=find_community(reseau,tab)\n",
    "    return com\n",
    "find_community_by_decreasing_popularity(reseau)"
   ]
  },
  {
   "cell_type": "code",
   "execution_count": 10,
   "metadata": {},
   "outputs": [
    {
     "data": {
      "text/plain": [
       "['Alice', 'Bob', 'Dominique']"
      ]
     },
     "execution_count": 10,
     "metadata": {},
     "output_type": "execute_result"
    }
   ],
   "source": [
    "def find_community_from_person(reseau,p):\n",
    "    com=[p]\n",
    "    order_by_decreasing_popularity(reseau,reseau[p])\n",
    "    i=0\n",
    "    while i<len(reseau[p]):\n",
    "        if all_his_friends(reseau,reseau[p][i],com)==True:\n",
    "            com.append(reseau[p][i])\n",
    "        i+=1\n",
    "    return com\n",
    "find_community_from_person(reseau,\"Alice\")"
   ]
  },
  {
   "cell_type": "code",
   "execution_count": 11,
   "metadata": {},
   "outputs": [
    {
     "data": {
      "text/plain": [
       "['Alice', 'Bob', 'Dominique']"
      ]
     },
     "execution_count": 11,
     "metadata": {},
     "output_type": "execute_result"
    }
   ],
   "source": [
    "def find_max_community(reseau):\n",
    "    tab=get_people(reseau)\n",
    "    i=0\n",
    "    com=find_community_from_person(reseau,tab[0])\n",
    "    while i<len(tab):\n",
    "        test=find_community_from_person(reseau,tab[i])\n",
    "        if len(com)<len(test):\n",
    "            com=test\n",
    "        i+=1\n",
    "    return com\n",
    "find_max_community(reseau)"
   ]
  },
  {
   "cell_type": "code",
   "execution_count": null,
   "metadata": {},
   "outputs": [],
   "source": []
  }
 ],
 "metadata": {
  "kernelspec": {
   "display_name": "Python 3 (ipykernel)",
   "language": "python",
   "name": "python3"
  },
  "language_info": {
   "codemirror_mode": {
    "name": "ipython",
    "version": 3
   },
   "file_extension": ".py",
   "mimetype": "text/x-python",
   "name": "python",
   "nbconvert_exporter": "python",
   "pygments_lexer": "ipython3",
   "version": "3.9.12"
  },
  "latex_envs": {
   "LaTeX_envs_menu_present": true,
   "autoclose": false,
   "autocomplete": true,
   "bibliofile": "biblio.bib",
   "cite_by": "apalike",
   "current_citInitial": 1,
   "eqLabelWithNumbers": true,
   "eqNumInitial": 1,
   "hotkeys": {
    "equation": "Ctrl-E",
    "itemize": "Ctrl-I"
   },
   "labels_anchors": false,
   "latex_user_defs": false,
   "report_style_numbering": false,
   "user_envs_cfg": false
  }
 },
 "nbformat": 4,
 "nbformat_minor": 2
}
